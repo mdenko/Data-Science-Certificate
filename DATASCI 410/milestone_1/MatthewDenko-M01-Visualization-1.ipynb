{
 "cells": [
  {
   "cell_type": "markdown",
   "metadata": {},
   "source": [
    "# Milestone 4 - Independent Project\n",
    "\n",
    "## Author - Matthew Denko\n",
    "\n"
   ]
  },
  {
   "cell_type": "markdown",
   "metadata": {},
   "source": [
    "## Instructions\n",
    "\n",
    "1. Generate a clear statement problem and provide the location for the datasetyou use.\n",
    "2. Provide a clear solution to the problem for a non-technical audience.\n",
    "3. Visually explore the data to generate insight and include summary statistics.\n",
    "4. Use an appropriate statistical analysis method.\n",
    "5. Prepare the data via cleaning, normalization, encoding, et cetera.\n",
    "6. Generate and evaluate a working model (hypothesis, linear, or time series).\n",
    "7. Draw direct inferences and conclusions from model results.\n",
    "8. Use professional coding standards and techniques including:\n",
    "\n",
    "    - explanatory markdown text\n",
    "    - proper code comments\n",
    "    - functions to minimize redundant code\n",
    "    - minimize hard-coded variables"
   ]
  },
  {
   "cell_type": "markdown",
   "metadata": {},
   "source": [
    "### Note\n",
    "Please use the <a class=\"icon-pdf\" title=\"Independent Project Rubric\" href=\"https://library.startlearninglabs.uw.edu/DATASCI410/Handouts/DATASCI%20410%20Independent%20Project%20Rubric.pdf\" target=\"_blank\" rel=\"noopener\">Rubric</a> as a general guide for your project."
   ]
  },
  {
   "cell_type": "markdown",
   "metadata": {},
   "source": [
    "# Abstract\n",
    "\n",
    "This dataset contains demographic data from the 1994 Census database which was gathered to see if it could predict if an Adult makes >50k annually \n",
    "\n",
    "## Problem\n",
    "\n",
    "Can education level in the presence of capital gains be used as indicators of whether or not an adult makes >50k \n",
    "annual salary? \n",
    "\n",
    "## Conclusion\n",
    "\n",
    "Based on the results of the model, we cannot determine that education level and capital gain are a good indicator of whether or not a person makes greater than 50k anually."
   ]
  },
  {
   "cell_type": "code",
   "execution_count": null,
   "metadata": {},
   "outputs": [],
   "source": [
    "# Source Citation\n",
    "\n",
    "source_citation = \"Dua, D. and Karra Taniskidou, E. (2017). UCI Machine Learning Repository [http://archive.ics.uci.edu/ml]. Irvine, CA: University of California, School of Information and Computer Science.\"\n",
    "print(\"source citation = \",source_citation)\n",
    "url = 'https://archive.ics.uci.edu/ml/datasets/Adult'\n",
    "print(\"url =\",url)"
   ]
  },
  {
   "cell_type": "code",
   "execution_count": null,
   "metadata": {},
   "outputs": [],
   "source": [
    "# Load necessary libraries\n",
    "\n",
    "import pandas as pd\n",
    "import numpy as np\n",
    "import matplotlib.pyplot as plt\n",
    "import seaborn as sns\n",
    "from sklearn.cluster import KMeans\n",
    "from sklearn.linear_model import LogisticRegression\n",
    "from sklearn.model_selection import train_test_split\n",
    "from sklearn.metrics import *\n",
    "from sklearn.model_selection import train_test_split\n",
    "import matplotlib"
   ]
  },
  {
   "cell_type": "code",
   "execution_count": null,
   "metadata": {},
   "outputs": [],
   "source": [
    "# Defining Functions\n",
    "\n",
    "##k-means\n",
    "\n",
    "def Plot2DKMeans(Points, Labels, ClusterCentroids, Title):\n",
    "    for LabelNumber in range(max(Labels)+1):\n",
    "        LabelFlag = Labels == LabelNumber\n",
    "        color =  ['c', 'm', 'y', 'b', 'g', 'r', 'c', 'm', 'y', 'b', 'g', 'r', 'c', 'm', 'y'][LabelNumber]\n",
    "        marker = ['s', 'o', 'v', '^', '<', '>', '8', 'p', '*', 'h', 'H', 'D', 'd', 'P', 'X'][LabelNumber]\n",
    "        plt.scatter(Points.loc[LabelFlag,0], Points.loc[LabelFlag,1],\n",
    "                    s= 100, c=color, edgecolors=\"black\", alpha=0.3, marker=marker)\n",
    "        plt.scatter(ClusterCentroids.loc[LabelNumber,0], ClusterCentroids.loc[LabelNumber,1], s=200, c=\"black\", marker=marker)\n",
    "    plt.title(Title)\n",
    "    plt.show()"
   ]
  },
  {
   "cell_type": "code",
   "execution_count": null,
   "metadata": {
    "scrolled": true
   },
   "outputs": [],
   "source": [
    "##Reading url\n",
    "\n",
    "url = \"https://archive.ics.uci.edu/ml/machine-learning-databases/adult/adult.data\"\n",
    "Adult= pd.read_csv(url, header=None)\n",
    "\n",
    "##Assigning reasonable column names\n",
    "\n",
    "Adult.columns = [\"age\",\"workclass\",\"fnlwgt\",\"education\",\"education-num\",\"marital-status\",\"occupation\",\n",
    "                 \"relationship\",\"race\",\"sex\",\"capital-gain\",\"capital-loss\",\"hours-per-week\",\"native-country\",\">50K, <=50k\"]\n",
    "print(Adult.columns)\n",
    "Adult.describe()"
   ]
  },
  {
   "cell_type": "markdown",
   "metadata": {},
   "source": [
    "# PART 1: Data Cleanup"
   ]
  },
  {
   "cell_type": "markdown",
   "metadata": {},
   "source": [
    "## Checking the Distribution of Numeric Variables"
   ]
  },
  {
   "cell_type": "markdown",
   "metadata": {},
   "source": [
    "I want to examine the distribution of the numeric variables to see if any should be normalized"
   ]
  },
  {
   "cell_type": "code",
   "execution_count": null,
   "metadata": {},
   "outputs": [],
   "source": [
    "#age\n",
    "\n",
    "age_hist = plt.hist(Adult.loc[:,'age'])\n",
    "plt.title(\"Age Histogram\")\n",
    "plt.xlabel('age')\n",
    "plt.ylabel('frequency')\n",
    "plt.show(age_hist)\n",
    "age_comment = \"\"\"Age is strongly skewed right and does not represent a \n",
    "normal distribution, there is a higher concentrate of younger participants to \n",
    "older.\"\"\"\n",
    "print(age_comment)\n"
   ]
  },
  {
   "cell_type": "code",
   "execution_count": null,
   "metadata": {},
   "outputs": [],
   "source": [
    "#fnlwgt\n",
    "\n",
    "fnlwgt_hist = plt.hist(Adult.loc[:,'fnlwgt'])\n",
    "plt.title(\"Fnlwg Histogram\")\n",
    "plt.xlabel('fnlwg')\n",
    "plt.ylabel('frequency')\n",
    "plt.show(fnlwgt_hist)\n",
    "fnlwg_comment = \"\"\"fnlwgt is also strongly right skewed. represents final weigh\n",
    "which is the number of units in the target population that the responding unit\n",
    "represents\"\"\"\n",
    "print(fnlwg_comment)"
   ]
  },
  {
   "cell_type": "code",
   "execution_count": null,
   "metadata": {},
   "outputs": [],
   "source": [
    "#education-num\n",
    "\n",
    "education_num_hist = plt.hist(Adult.loc[:,'education-num'])\n",
    "plt.title(\"Education Num Histogram\")\n",
    "plt.xlabel('education-num')\n",
    "plt.ylabel('frequency')\n",
    "plt.show(education_num_hist)\n",
    "education_num_comment = \"\"\"education num has a somewhat bi-modal distribution\n",
    "with one center around 8-12 and another at 14\"\"\"\n",
    "print(education_num_comment)\n"
   ]
  },
  {
   "cell_type": "code",
   "execution_count": null,
   "metadata": {},
   "outputs": [],
   "source": [
    "#capital-gain\n",
    "\n",
    "capital_gain_hist = plt.hist(Adult.loc[:,'capital-gain'])\n",
    "plt.title(\"Capital Gain Histogram\")\n",
    "plt.xlabel('capital-gain')\n",
    "plt.ylabel('frequency')\n",
    "plt.show(capital_gain_hist)\n",
    "capital_gain_comment = \"\"\"capital gain is a single modal distribution that\n",
    "appears slightly right skewed\"\"\"\n",
    "print(capital_gain_comment)"
   ]
  },
  {
   "cell_type": "code",
   "execution_count": null,
   "metadata": {},
   "outputs": [],
   "source": [
    "#capital-loss\n",
    "\n",
    "capital_loss_hist = plt.hist(Adult.loc[:,'capital-loss'])\n",
    "plt.title(\"Capital Loss Histogram\")\n",
    "plt.xlabel('capital-loss')\n",
    "plt.ylabel('frequency')\n",
    "plt.show(capital_loss_hist)\n",
    "capital_loss_comment = \"\"\"captial loss is a single modal distribution that has\n",
    "some skewed right outliers\"\"\"\n",
    "print(capital_loss_comment)"
   ]
  },
  {
   "cell_type": "code",
   "execution_count": null,
   "metadata": {},
   "outputs": [],
   "source": [
    "#hours-per-week\n",
    "\n",
    "hours_per_week_hist = plt.hist(Adult.loc[:,'hours-per-week'])\n",
    "plt.title(\"Hours-Per-Week Histogram\")\n",
    "plt.xlabel('hours-per-week')\n",
    "plt.ylabel('frequency')\n",
    "plt.show(hours_per_week_hist)\n",
    "hours_per_week_comment = \"\"\"hours per week appears to be close to a normal\n",
    "distribution, with some slight right skewness\"\"\""
   ]
  },
  {
   "cell_type": "markdown",
   "metadata": {},
   "source": [
    "Based off the distributions I will normalize age, fnlwgt, capital_gain, and capital_loss"
   ]
  },
  {
   "cell_type": "code",
   "execution_count": null,
   "metadata": {},
   "outputs": [],
   "source": [
    "#Extracting the numeric columns which make sense to normalize\n",
    "\n",
    "age = Adult.loc[:,'age']\n",
    "fnlwgt = Adult.loc[:,'fnlwgt']\n",
    "capital_gain = Adult.loc[:,'capital-gain']\n",
    "capital_loss = Adult.loc[:,'capital-loss']"
   ]
  },
  {
   "cell_type": "code",
   "execution_count": null,
   "metadata": {},
   "outputs": [],
   "source": [
    "# Normalizing numeric variables using numpy and z normalization\n",
    "\n",
    "age_zscaled = (age - np.mean(age))/np.std(age)\n",
    "fnlwgt_zscaled = (age - np.mean(fnlwgt))/np.std(fnlwgt)\n",
    "capital_gain_zscaled = (capital_gain - np.mean(capital_gain))/np.std(capital_gain)\n",
    "capital_loss_zscaled = (capital_loss - np.mean(capital_loss))/np.std(capital_loss)"
   ]
  },
  {
   "cell_type": "code",
   "execution_count": null,
   "metadata": {},
   "outputs": [],
   "source": [
    "#replacing the numeric values with the normalized values\n",
    "\n",
    "replace_age = Adult.loc[:,\"age\"] = age_zscaled\n",
    "replace_fnlwgt = Adult.loc[:,\"fnlwgt\"] = fnlwgt_zscaled\n",
    "replace_capital_gain = Adult.loc[:,\"capital-gain\"] = capital_gain_zscaled\n",
    "replace_capital_loss = Adult.loc[:,\"capital-loss\"] = capital_loss_zscaled\n",
    "print(Adult.head)\n"
   ]
  },
  {
   "cell_type": "markdown",
   "metadata": {},
   "source": [
    "## Missing Data"
   ]
  },
  {
   "cell_type": "code",
   "execution_count": null,
   "metadata": {},
   "outputs": [],
   "source": [
    "#Removing cases with missing data\n",
    "\n",
    "Adult = Adult.replace(to_replace= \"?\", value=float(\"NaN\"))\n",
    "Adult_null = Adult.isnull().sum()\n",
    "print(Adult_null)\n",
    "print(\"There are 0 columns with missing data\")\n"
   ]
  },
  {
   "cell_type": "markdown",
   "metadata": {},
   "source": [
    "## Encoding"
   ]
  },
  {
   "cell_type": "code",
   "execution_count": null,
   "metadata": {},
   "outputs": [],
   "source": [
    "# Create dummy column for >50K,<50K\n",
    "\n",
    "Adult.loc[:, \">50K\"] = (Adult.loc[:, \">50K, <=50k\"] == ' >50K').astype(int)\n",
    "\n",
    "# Removing obsolete columns\n",
    "\n",
    "Adult = Adult.drop(\">50K, <=50k\", axis=1)"
   ]
  },
  {
   "cell_type": "markdown",
   "metadata": {},
   "source": [
    "### Summary:\n",
    "    There are no missing columns and all numerical columns have close to a normal distribution. I encoded >50k so that it can be used in a model. I will now begin examining the relationship between variables using vizuals"
   ]
  },
  {
   "cell_type": "markdown",
   "metadata": {},
   "source": [
    "# PART 2: Vizualization"
   ]
  },
  {
   "cell_type": "markdown",
   "metadata": {},
   "source": [
    "I will now use plots to examine the relationship between education and whether or not an adult makes >50k annually. I will first examine a scatter plot of education num vs capital gain. Since >50K, <=50K is not a numeric variable I am using capital-gain as a proxy."
   ]
  },
  {
   "cell_type": "code",
   "execution_count": null,
   "metadata": {},
   "outputs": [],
   "source": [
    "#Scatter plot of education level vs >50k,<50K\n",
    "\n",
    "ax = plt.figure(figsize=(6, 6)).gca() # define axis\n",
    "Adult.plot.scatter(x = 'education-num', y = 'capital-gain', ax = ax)\n",
    "ax.set_title('Capital Gain vs Education Number') # Give the plot a main title\n",
    "ax.set_ylabel('Capital Gain')# Set text for y axis\n",
    "ax.set_xlabel('Education Number')"
   ]
  },
  {
   "cell_type": "markdown",
   "metadata": {},
   "source": [
    "## Comments:\n",
    "    This plot shows there is a slight positive correlation between capital gain and education number, however there is significant overplotting so I am going to add a hex bin plot."
   ]
  },
  {
   "cell_type": "code",
   "execution_count": null,
   "metadata": {},
   "outputs": [],
   "source": [
    "#Hexbin Plot\n",
    "\n",
    "ax = plt.figure(figsize=(6, 6)).gca() # define axis\n",
    "Adult.plot.hexbin(x = 'education-num', y = 'capital-gain', gridsize = 16, ax = ax)\n",
    "ax.set_title('Capital Gain vs Education Num') # Give the plot a main title\n",
    "ax.set_ylabel('Capital Gain')# Set text for y axis\n",
    "ax.set_xlabel('Education Num')"
   ]
  },
  {
   "cell_type": "markdown",
   "metadata": {},
   "source": [
    "## Comments:\n",
    "    The most common pairs appear to be around Education Num of 10 and Capital Gain of zero. \n",
    "    It does not appear there is any significant density of capital gain values greater than "
   ]
  },
  {
   "cell_type": "code",
   "execution_count": null,
   "metadata": {},
   "outputs": [],
   "source": [
    "#Facet Plot\n",
    "\n",
    "g = sns.FacetGrid(Adult, col=\">50K\", row='education-num')\n",
    "g = g.map(plt.hist, \"capital-gain\")"
   ]
  },
  {
   "cell_type": "markdown",
   "metadata": {},
   "source": [
    "### Comments:\n",
    "    For education levels 9 and below, adults that do not make >50k generally have larger capital-gains. However, for education levels 10 and greater adults that do make >50k generaly have larger capital-gains. I would like to examine the relationship between these three variables further by looking at a grouped box plot."
   ]
  },
  {
   "cell_type": "code",
   "execution_count": null,
   "metadata": {},
   "outputs": [],
   "source": [
    "# Grouped Box Plot\n",
    "\n",
    "fig = plt.figure(figsize=(6, 6)) # Define plot area\n",
    "ax = fig.gca() # Define axis \n",
    "Adult.loc[:,['capital-gain', 'education-num','>50K']].boxplot(by = '>50K', ax = ax)\n",
    "ax.set_title('Box plot of HeadCount') # Give the plot a main title\n",
    "ax.set_ylabel('HeadCount')# Set text for y axis\n",
    "ax.set_ylim(0.0, 111.0) # Set the limits of the y axis"
   ]
  },
  {
   "cell_type": "markdown",
   "metadata": {},
   "source": [
    "### Comments:\n",
    "    Based on the side by side box plots both education num and capital gain appear to be correlated with >50k. Generally if you make >50k you are more likely to have a higher capital gain and a higher education level then if you do not make >50k.\n",
    "    \n",
    "    Based on these plots, I want to examine whether education in the presence of capital gain is a good predictor of whether someone makes >50k."
   ]
  },
  {
   "cell_type": "markdown",
   "metadata": {},
   "source": [
    "# PART 3: Modeling"
   ]
  },
  {
   "cell_type": "markdown",
   "metadata": {},
   "source": [
    "## Unsupervised Learning"
   ]
  },
  {
   "cell_type": "code",
   "execution_count": null,
   "metadata": {},
   "outputs": [],
   "source": [
    "### I want to view relationship between education num and capital gain and the captial gain recieved\n",
    "\n",
    "#extracting the columns\n",
    "\n",
    "max_education_num =  Adult.loc[:,\"education-num\"] == 16\n",
    "capital_gain = Adult.loc[:,\"capital-gain\"]\n",
    "\n",
    "#creating the dataframe\n",
    "\n",
    "kmeansdf = pd.DataFrame()\n",
    "kmeansdf.loc[:,0] = max_education_num\n",
    "kmeansdf.loc[:,1] = capital_gain\n",
    "\n",
    "#Centroid Guesses\n",
    "\n",
    "ClusterCentroidGuesses = pd.DataFrame()\n",
    "ClusterCentroidGuesses.loc[:,0] = [-1,1]\n",
    "ClusterCentroidGuesses.loc[:,1] = [-1,1]\n",
    "\n",
    "#Doing the clustering\n",
    "\n",
    "kmeans = KMeans(n_clusters=2, init=ClusterCentroidGuesses, n_init=1).fit(kmeansdf)\n",
    "Labels = kmeans.labels_\n",
    "ClusterCentroids = pd.DataFrame(kmeans.cluster_centers_)\n",
    "Plot2DKMeans(kmeansdf, Labels, ClusterCentroids, 'my cluster of max education-num vs capital-gain')\n",
    "\n",
    "#Adding the Label to the model\n",
    "\n",
    "Adult.loc[:,\"cluster_label\"] = Labels"
   ]
  },
  {
   "cell_type": "markdown",
   "metadata": {},
   "source": [
    "### Comments:\n",
    "    There are two main clusters of capital gain values at 0 and 1. The spead of education levels is high for both captial gain clusters of 0 and 1."
   ]
  },
  {
   "cell_type": "markdown",
   "metadata": {},
   "source": [
    "## Supervised Learning - Logistic Regression"
   ]
  },
  {
   "cell_type": "code",
   "execution_count": null,
   "metadata": {},
   "outputs": [],
   "source": [
    "#Creating Training and Test Sets\n",
    "\n",
    "#Subsetting dataset for wanted columns columns\n",
    "\n",
    "Adult_Data = pd.DataFrame()\n",
    "Adult_Data.loc[:,\"education-num\"] = Adult.loc[:,\"education-num\"]\n",
    "Adult_Data.loc[:,\"capital-gain\"] = Adult.loc[:,\"capital-gain\"]\n",
    "Adult_Data.loc[:,\">50K\"] = Adult.loc[:,\">50K\"]\n",
    "Adult_Data.loc[:,\"cluster_label\"] = Adult.loc[:,\"cluster_label\"]\n",
    "\n",
    "#Training = X\n",
    "\n",
    "X = []\n",
    "\n",
    "#Test = Y\n",
    "\n",
    "Y = []\n",
    "\n",
    "#splitting data into test and training sets using sklearn\n",
    "\n",
    "X, Y = train_test_split(Adult_Data,test_size = .20)\n",
    "\n",
    "\n",
    "print(X,\"This is the Training Set\")\n",
    "print(Y,\"This is the testing Set\")\n"
   ]
  },
  {
   "cell_type": "code",
   "execution_count": null,
   "metadata": {},
   "outputs": [],
   "source": [
    "#Creating the classifier\n",
    "\n",
    "print ('\\n Use logistic regression to predict >50K from education num and capital gain')\n",
    "Target = \">50K\"\n",
    "Inputs = list(Adult_Data.columns)\n",
    "Inputs.remove(Target)\n",
    "clf = LogisticRegression()\n",
    "clf.fit(X.loc[:,Inputs], X.loc[:,Target])\n",
    "BothProbabilities = clf.predict_proba(Y.loc[:,Inputs])\n",
    "probabilities = BothProbabilities[:,1]\n",
    "\n"
   ]
  },
  {
   "cell_type": "code",
   "execution_count": null,
   "metadata": {},
   "outputs": [],
   "source": [
    "#Confusion Matrix\n",
    "\n",
    "# I will use a probability threshold of .5 in order to have a balance of precision vs recall. \n",
    "\n",
    "print ('\\nConfusion Matrix and Metrics')\n",
    "Threshold = 0.5 # Some number between 0 and 1\n",
    "print (\"Probability Threshold is chosen to be:\", Threshold)\n",
    "predictions = (probabilities > Threshold).astype(int)\n",
    "CM = confusion_matrix(Y.loc[:,Target], predictions)\n",
    "tn, fp, fn, tp = CM.ravel()\n",
    "print (\"TP, TN, FP, FN:\", tp, \",\", tn, \",\", fp, \",\", fn)\n",
    "\n"
   ]
  },
  {
   "cell_type": "code",
   "execution_count": null,
   "metadata": {},
   "outputs": [],
   "source": [
    "#Accuracy Metrics\n",
    "\n",
    "AR = accuracy_score(Y.loc[:,Target], predictions)\n",
    "print (\"Accuracy rate:\", np.round(AR, 2))\n",
    "P = precision_score(Y.loc[:,Target], predictions)\n",
    "print (\"Precision:\", np.round(P, 2))\n",
    "R = recall_score(Y.loc[:,Target], predictions)\n",
    "print (\"Recall:\", np.round(R, 2))\n",
    "\n"
   ]
  },
  {
   "cell_type": "markdown",
   "metadata": {},
   "source": [
    "## Comments:\n",
    "    The accuracy rate and precision are both fairly high and recall is low. The accuracy rate says that this model correcly predicted 81% of the observations in this dataset. The precision rate means that 78% of the total predicted positive observations were predicted correctly. The low recall score implies that there were a large number of false positives predicted along with true positives. This means the net prediction potential of my model is not very high."
   ]
  },
  {
   "cell_type": "code",
   "execution_count": null,
   "metadata": {
    "scrolled": true
   },
   "outputs": [],
   "source": [
    "# Calculating the ROC curve and its AUC\n",
    "\n",
    "# Creating False Positive Rate, True Posisive Rate, and probability thresholds\n",
    "\n",
    "fpr, tpr, th = roc_curve(Y.loc[:,Target], probabilities)\n",
    "\n",
    "#Calculating ROC\n",
    "\n",
    "AUC = auc(fpr, tpr)\n",
    "\n",
    "# Plotting the ROC Curve, presenting AUC in the plot\n",
    "\n",
    "plt.rcParams[\"figure.figsize\"] = [10, 10] # Square\n",
    "font = {'family' : 'DejaVu Sans', 'weight' : 'bold', 'size' : 12}\n",
    "matplotlib.rc('font', **font)\n",
    "plt.figure()\n",
    "plt.title('ROC Curve')\n",
    "plt.xlabel('FPR')\n",
    "plt.ylabel('TPR')\n",
    "plt.plot(fpr, tpr, LW=3, label='ROC curve (AUC = %0.2f)' % AUC)\n",
    "plt.plot([0, 1], [0, 1], color='navy', LW=3, linestyle='--') # reference line for random classifier\n",
    "plt.legend(loc=\"lower right\")\n",
    "plt.show()\n",
    "\n",
    "\n",
    "\n",
    "\n"
   ]
  },
  {
   "cell_type": "markdown",
   "metadata": {},
   "source": [
    "## Comments:\n",
    "   The ROC Curve helps measure the tradeoff between precision and recall. The AUC value is related to the overall ability of a test to correctly identify normal versus abnormal, so a value of .76 is not great but is encouraging. The model overall appears to be a decent predictor of this dataset but its low recall indicates that we cannot determine that education level and capital gain are a good indicator of whether or not a person makes greater than 50k anually.\n",
    "  "
   ]
  }
 ],
 "metadata": {
  "kernelspec": {
   "display_name": "Python 3",
   "language": "python",
   "name": "python3"
  },
  "language_info": {
   "codemirror_mode": {
    "name": "ipython",
    "version": 3
   },
   "file_extension": ".py",
   "mimetype": "text/x-python",
   "name": "python",
   "nbconvert_exporter": "python",
   "pygments_lexer": "ipython3",
   "version": "3.6.5"
  }
 },
 "nbformat": 4,
 "nbformat_minor": 1
}
