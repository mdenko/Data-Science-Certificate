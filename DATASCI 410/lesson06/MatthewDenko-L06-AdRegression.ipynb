{
 "cells": [
  {
   "cell_type": "markdown",
   "metadata": {},
   "source": [
    "# Lesson 6 Assignment - Advertising Sales Regression\n",
    "\n",
    "## Author - Matthew Denko"
   ]
  },
  {
   "cell_type": "markdown",
   "metadata": {},
   "source": [
    "### Instructions  \n",
    "Perform four different linear regressions on advertising sales data located in 'Advertising.csv'.  Your dependent feature is 'sales', a measure of sales of a product in a given market in thousands of dollars. \n",
    "\n",
    "The independent features for each of the first 3 separate regressions are:\n",
    "\n",
    " 1. 'TV': advertising dollars spent on TV ads for a single product in a given market\n",
    " 2. 'radio': advertising dollars spent on radio ads\n",
    " 3. 'newspaper': advertising dollars spent on newspaper ads\n",
    "\n",
    "For the first 3 linear regression performed:\n",
    "\n",
    "- Produce a labeled graph showing the best fit line with the data points.\n",
    "- Interpret both the slope and y-intercept.\n",
    "#### Please prepare this information for a client who may not understand what the parameters mean."
   ]
  },
  {
   "cell_type": "markdown",
   "metadata": {},
   "source": [
    "# Loading Data"
   ]
  },
  {
   "cell_type": "code",
   "execution_count": null,
   "metadata": {},
   "outputs": [],
   "source": [
    "# Import libraries\n",
    "\n",
    "import numpy as np\n",
    "import pandas as pd\n",
    "import matplotlib.pyplot as plt\n",
    "import numpy as np\n",
    "import matplotlib.pyplot as plt\n",
    "from sklearn.linear_model import LinearRegression\n",
    "from sklearn.metrics import mean_squared_error, r2_score\n",
    "%matplotlib inline"
   ]
  },
  {
   "cell_type": "code",
   "execution_count": null,
   "metadata": {},
   "outputs": [],
   "source": [
    "# Load data\n",
    "\n",
    "filename = 'https://library.startlearninglabs.uw.edu/DATASCI410/Datasets/Advertising.csv'\n",
    "ad_data = pd.read_csv(filename, index_col=0)\n",
    "print(ad_data.head())\n",
    "print(ad_data.shape)\n",
    "ad_data.describe()"
   ]
  },
  {
   "cell_type": "markdown",
   "metadata": {},
   "source": [
    "# Regression 1: Sales vs TV"
   ]
  },
  {
   "cell_type": "code",
   "execution_count": null,
   "metadata": {},
   "outputs": [],
   "source": [
    "# generate random data-set\n",
    "np.random.seed(0)\n",
    "x = np.array(ad_data.loc[:,'TV'])\n",
    "y = np.array(ad_data.loc[:,'sales'])\n",
    "\n",
    "x = x.reshape(-1,1)\n",
    "y = y.reshape(-1,1)\n",
    "\n",
    "# Model initialization\n",
    "regression_model = LinearRegression()\n",
    "# Fit the data(train the model)\n",
    "regression_model.fit(x, y)\n",
    "\n",
    "# Predict\n",
    "y_predicted = regression_model.predict(x)\n",
    "\n",
    "# model evaluation\n",
    "rmse = mean_squared_error(y, y_predicted)\n",
    "r2 = r2_score(y, y_predicted)\n",
    "\n",
    "# printing values\n",
    "print('Slope:' ,regression_model.coef_)\n",
    "print('Intercept:', regression_model.intercept_)\n",
    "print('Root mean squared error: ', rmse)\n",
    "print('R2 score: ', r2)\n",
    "\n",
    "# plotting values\n",
    "\n",
    "# data points\n",
    "plt.scatter(x, y, s=10)\n",
    "plt.xlabel('TV (Thousand($))')\n",
    "plt.ylabel('Sales (Thousand($))')\n",
    "plt.title('Sales vs TV')\n",
    "\n",
    "# predicted values\n",
    "plt.plot(x, y_predicted, color='r')\n",
    "plt.show()"
   ]
  },
  {
   "cell_type": "markdown",
   "metadata": {},
   "source": [
    "### Comments:\n",
    "    \n",
    "    The slope of this regression model is ~.05 which means as you increase TV advertising spend by 1000 dollars the sales revenue is expected to increase by 50 dollars. The y intercept of 7 thousand dollars means that if you spend 0 dollars in TV advertising the expected sales revenue will be 7 thousand dollars."
   ]
  },
  {
   "cell_type": "markdown",
   "metadata": {},
   "source": [
    "# Regression 2: Sales vs Radio"
   ]
  },
  {
   "cell_type": "code",
   "execution_count": null,
   "metadata": {},
   "outputs": [],
   "source": [
    "# generate random data-set\n",
    "np.random.seed(0)\n",
    "x = np.array(ad_data.loc[:,'radio'])\n",
    "y = np.array(ad_data.loc[:,'sales'])\n",
    "\n",
    "x = x.reshape(-1,1)\n",
    "y = y.reshape(-1,1)\n",
    "\n",
    "# Model initialization\n",
    "regression_model = LinearRegression()\n",
    "# Fit the data(train the model)\n",
    "regression_model.fit(x, y)\n",
    "\n",
    "# Predict\n",
    "y_predicted = regression_model.predict(x)\n",
    "\n",
    "# model evaluation\n",
    "rmse = mean_squared_error(y, y_predicted)\n",
    "r2 = r2_score(y, y_predicted)\n",
    "\n",
    "# printing values\n",
    "print('Slope:' ,regression_model.coef_)\n",
    "print('Intercept:', regression_model.intercept_)\n",
    "print('Root mean squared error: ', rmse)\n",
    "print('R2 score: ', r2)\n",
    "\n",
    "# plotting values\n",
    "\n",
    "# data points\n",
    "plt.scatter(x, y, s=10)\n",
    "plt.xlabel('Radio (Thousand($))')\n",
    "plt.ylabel('Sales (Thousand($))')\n",
    "plt.title('Sales vs Radio')\n",
    "\n",
    "# predicted values\n",
    "plt.plot(x, y_predicted, color='r')\n",
    "plt.show()"
   ]
  },
  {
   "cell_type": "markdown",
   "metadata": {},
   "source": [
    "### Comments:\n",
    "    \n",
    "        The slope of this regression model is ~.20 which means as you increase Radio advertising spend by 1000 dollars the sales revenue is expected to increase by 200 dollars. The y intercept of 9.31 thousand dollars means that if you spend 0 dollars in Radio advertising the expected sales revenue will be 9.31 thousand dollars."
   ]
  },
  {
   "cell_type": "markdown",
   "metadata": {},
   "source": [
    "# Regression 3: Sales vs Newspaper "
   ]
  },
  {
   "cell_type": "code",
   "execution_count": null,
   "metadata": {},
   "outputs": [],
   "source": [
    "# generate random data-set\n",
    "np.random.seed(0)\n",
    "x = np.array(ad_data.loc[:,'newspaper'])\n",
    "y = np.array(ad_data.loc[:,'sales'])\n",
    "\n",
    "x = x.reshape(-1,1)\n",
    "y = y.reshape(-1,1)\n",
    "\n",
    "# Model initialization\n",
    "regression_model = LinearRegression()\n",
    "# Fit the data(train the model)\n",
    "regression_model.fit(x, y)\n",
    "\n",
    "# Predict\n",
    "y_predicted = regression_model.predict(x)\n",
    "\n",
    "# model evaluation\n",
    "rmse = mean_squared_error(y, y_predicted)\n",
    "r2 = r2_score(y, y_predicted)\n",
    "\n",
    "# printing values\n",
    "print('Slope:' ,regression_model.coef_)\n",
    "print('Intercept:', regression_model.intercept_)\n",
    "print('Root mean squared error: ', rmse)\n",
    "print('R2 score: ', r2)\n",
    "\n",
    "# plotting values\n",
    "\n",
    "# data points\n",
    "plt.scatter(x, y, s=10)\n",
    "plt.xlabel('Newspaper (Thousand($))')\n",
    "plt.ylabel('Sales (Thousand($))')\n",
    "plt.title('Sales vs Newspaper')\n",
    "\n",
    "# predicted values\n",
    "plt.plot(x, y_predicted, color='r')\n",
    "plt.show()"
   ]
  },
  {
   "cell_type": "markdown",
   "metadata": {},
   "source": [
    "### Comments:\n",
    "    \n",
    "            The slope of this regression model is ~.05 which means as you increase Newspaper advertising spend by 1000 dollars the sales revenue is expected to increase by 50 dollars. The y intercept of 12.35 thousand dollars means that if you spend 0 dollars in Newspaper advertising the expected sales revenue will be 9.31 thousand dollars."
   ]
  }
 ],
 "metadata": {
  "kernelspec": {
   "display_name": "Python 3",
   "language": "python",
   "name": "python3"
  },
  "language_info": {
   "codemirror_mode": {
    "name": "ipython",
    "version": 3
   },
   "file_extension": ".py",
   "mimetype": "text/x-python",
   "name": "python",
   "nbconvert_exporter": "python",
   "pygments_lexer": "ipython3",
   "version": "3.6.5"
  }
 },
 "nbformat": 4,
 "nbformat_minor": 2
}
