{
 "cells": [
  {
   "cell_type": "markdown",
   "metadata": {},
   "source": [
    "# Milestone 1 - Data Visualization Complementary Views \n",
    "\n",
    "## Author - Matthew Denko\n",
    "\n"
   ]
  },
  {
   "cell_type": "markdown",
   "metadata": {},
   "source": [
    "## Instructions\n",
    "1. Create different complementary views of data by applying multiple chart types and aesthetics.\n",
    "2. Project multiple dimensions using conditioning or faceting (e.g., small multiples) on both categorical and numeric variables."
   ]
  },
  {
   "cell_type": "code",
   "execution_count": null,
   "metadata": {},
   "outputs": [],
   "source": [
    "# Load necessary libraries\n",
    "\n",
    "import pandas as pd\n",
    "import numpy as np\n",
    "import matplotlib.pyplot as plt\n",
    "import seaborn as sns"
   ]
  },
  {
   "cell_type": "code",
   "execution_count": null,
   "metadata": {
    "scrolled": true
   },
   "outputs": [],
   "source": [
    "# Load data\n",
    "\n",
    "filename = 'https://library.startlearninglabs.uw.edu/DATASCI410/Datasets/JitteredHeadCount.csv'\n",
    "headcount_df = pd.read_csv(filename)\n",
    "headcount_df.describe()"
   ]
  },
  {
   "cell_type": "markdown",
   "metadata": {},
   "source": [
    "# Tables Open vs Head Count"
   ]
  },
  {
   "cell_type": "code",
   "execution_count": null,
   "metadata": {
    "scrolled": true
   },
   "outputs": [],
   "source": [
    "#Scatter plot\n",
    "\n",
    "ax = plt.figure(figsize=(6, 6)).gca() # define axis\n",
    "headcount_df.plot.scatter(x = 'HeadCount', y = 'TablesOpen', ax = ax)\n",
    "ax.set_title('Tables Open vs Head Count') # Give the plot a main title\n",
    "ax.set_ylabel('Tables Open')# Set text for y axis\n",
    "ax.set_xlabel('Head Count')"
   ]
  },
  {
   "cell_type": "markdown",
   "metadata": {},
   "source": [
    "Comments:\n",
    "    I want to explore the relationship between the amount of open tables and head count. I first plotted a scatter plot however there is a significant amount of overplotting so it is difficult to make any insights. "
   ]
  },
  {
   "cell_type": "code",
   "execution_count": null,
   "metadata": {},
   "outputs": [],
   "source": [
    "#Hexbin Plot\n",
    "\n",
    "ax = plt.figure(figsize=(6, 6)).gca() # define axis\n",
    "headcount_df.plot.hexbin(x = 'HeadCount', y = 'TablesOpen', gridsize = 15, ax = ax)\n",
    "ax.set_title('Tables Open vs Head Count') # Give the plot a main title\n",
    "ax.set_ylabel('Tables Open')# Set text for y axis\n",
    "ax.set_xlabel('Head Count')"
   ]
  },
  {
   "cell_type": "markdown",
   "metadata": {},
   "source": [
    "Comments: \n",
    "    The Hexbin helps with the overplotting issue. You can see that as head count increases the amount of open tables tends to increase. The most commen pair is both head count and tables open under 5. "
   ]
  },
  {
   "cell_type": "code",
   "execution_count": null,
   "metadata": {},
   "outputs": [],
   "source": [
    "# Grouped Box Plot\n",
    "\n",
    "fig = plt.figure(figsize=(6, 6)) # Define plot area\n",
    "ax = fig.gca() # Define axis \n",
    "headcount_df.loc[:,['TablesOpen', 'HeadCount']].boxplot(by = 'HeadCount', ax = ax)\n",
    "ax.set_title('Box plot of TablesOpen') # Give the plot a main title\n",
    "ax.set_ylabel('TablesOpen')# Set text for y axis\n",
    "ax.set_ylim(0.0, 25.0) # Set the limits of the y axis"
   ]
  },
  {
   "cell_type": "markdown",
   "metadata": {},
   "source": [
    "Comments:\n",
    "    This box plot does not tell us much besides that there are many distinct points in both Tables Open and Head Count. It would make sense to bin one of these variables and re-plot"
   ]
  },
  {
   "cell_type": "markdown",
   "metadata": {},
   "source": [
    "# Head Count vs Tables Occupied"
   ]
  },
  {
   "cell_type": "code",
   "execution_count": null,
   "metadata": {},
   "outputs": [],
   "source": [
    "#Scatterplot\n",
    "\n",
    "ax = plt.figure(figsize=(6, 6)).gca() # define axis\n",
    "headcount_df.plot.scatter(x = 'TablesOcc', y = 'HeadCount', ax = ax, alpha = 0.3)\n",
    "ax.set_title('Head Count vs Tables Occupied') # Give the plot a main title\n",
    "ax.set_ylabel('Head Count')# Set text for y axis\n",
    "ax.set_xlabel('Tables Occupied')"
   ]
  },
  {
   "cell_type": "markdown",
   "metadata": {},
   "source": [
    "Comments:\n",
    "    There is a positive relationship between tables occupied and head count as tables occupied goes up head count goes     up. There is significant overplotting so I will create a hex diagram\n"
   ]
  },
  {
   "cell_type": "code",
   "execution_count": null,
   "metadata": {},
   "outputs": [],
   "source": [
    "#Hexbin Plot\n",
    "\n",
    "ax = plt.figure(figsize=(6, 6)).gca() # define axis\n",
    "headcount_df.plot.hexbin(x = 'TablesOcc', y = 'HeadCount', gridsize = 15, ax = ax)\n",
    "ax.set_title('Head Count vs Tables Occupied') # Give the plot a main title\n",
    "ax.set_ylabel('Head Count')# Set text for y axis\n",
    "ax.set_xlabel('Tables Occupied')"
   ]
  },
  {
   "cell_type": "markdown",
   "metadata": {},
   "source": [
    "Comments:\n",
    "    There is highest concentration is of 0 tables and 0 people at the bar. "
   ]
  },
  {
   "cell_type": "code",
   "execution_count": null,
   "metadata": {},
   "outputs": [],
   "source": [
    "#CrossTab\n",
    "\n",
    "hour_head = pd.crosstab(headcount_df.loc[:, 'HeadCount'], headcount_df.loc[:, 'TablesOcc'])\n",
    "num_cars = hour_head.apply(sum, axis = 0)\n",
    "hour_head = hour_head.div(num_cars, axis = 1)\n",
    "print(hour_head.head())"
   ]
  },
  {
   "cell_type": "code",
   "execution_count": null,
   "metadata": {},
   "outputs": [],
   "source": [
    "#HeatMap\n",
    "\n",
    "ax = plt.figure(figsize=(6, 6)).gca() # define axis\n",
    "ax.pcolor(hour_head, cmap = 'Blues')\n",
    "ax.set_xticks(range(hour_head.shape[1]))\n",
    "ax.set_xticklabels(hour_head.columns, rotation=90)\n",
    "ax.set_xlabel('Tables Occupied')\n",
    "ax.set_ylabel('Head Count')\n",
    "ax.set_title('Head Count by Tables Occupied')"
   ]
  },
  {
   "cell_type": "markdown",
   "metadata": {},
   "source": [
    "Comments:\n",
    "    The most dense combination by far is 0 head count and 0 tables occupied. The heat map helps show how miniscule other concentrations are."
   ]
  },
  {
   "cell_type": "code",
   "execution_count": null,
   "metadata": {},
   "outputs": [],
   "source": [
    "# Grouped Box Plot\n",
    "\n",
    "fig = plt.figure(figsize=(6, 6)) # Define plot area\n",
    "ax = fig.gca() # Define axis \n",
    "headcount_df.loc[:,['HeadCount', 'TablesOcc']].boxplot(by = 'TablesOcc', ax = ax)\n",
    "ax.set_title('Box plot of HeadCount') # Give the plot a main title\n",
    "ax.set_ylabel('HeadCount')# Set text for y axis\n",
    "ax.set_ylim(0.0, 111.0) # Set the limits of the y axis"
   ]
  },
  {
   "cell_type": "markdown",
   "metadata": {},
   "source": [
    "Comments:\n",
    "    There are some interesting outliers around the Tables Occupied range of 4-6. I wonder if there was some sort of event or if that is when the bar is heavily occupied."
   ]
  },
  {
   "cell_type": "code",
   "execution_count": null,
   "metadata": {},
   "outputs": [],
   "source": [
    "#Adding an indicator column for Friday\n",
    "\n",
    "headcount_df.loc[:,'Friday'] = headcount_df.loc[:,\"DayOfWeek\"] == 6\n",
    "headcount_df.columns"
   ]
  },
  {
   "cell_type": "code",
   "execution_count": null,
   "metadata": {},
   "outputs": [],
   "source": [
    "g = sns.FacetGrid(headcount_df, col=\"Friday\", row='TablesOcc')\n",
    "g = g.map(plt.hist, \"HeadCount\")"
   ]
  },
  {
   "cell_type": "markdown",
   "metadata": {},
   "source": [
    "Comments:\n",
    "    The headcount on Fridays is highest when there are lesser Tables Occupied (with 2 being the higest). This is interesting and suggests people are not sitting at tables on Fridays."
   ]
  },
  {
   "cell_type": "code",
   "execution_count": null,
   "metadata": {},
   "outputs": [],
   "source": [
    "source_citation = 'https://library.startlearninglabs.uw.edu/DATASCI410/Datasets/JitteredHeadCount.csv'\n",
    "print(\"this is the source used:\",source_citation)"
   ]
  }
 ],
 "metadata": {
  "kernelspec": {
   "display_name": "Python 3",
   "language": "python",
   "name": "python3"
  },
  "language_info": {
   "codemirror_mode": {
    "name": "ipython",
    "version": 3
   },
   "file_extension": ".py",
   "mimetype": "text/x-python",
   "name": "python",
   "nbconvert_exporter": "python",
   "pygments_lexer": "ipython3",
   "version": "3.6.5"
  }
 },
 "nbformat": 4,
 "nbformat_minor": 1
}
