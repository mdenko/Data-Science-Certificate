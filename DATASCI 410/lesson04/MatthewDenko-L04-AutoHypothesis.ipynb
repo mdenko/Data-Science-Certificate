{
 "cells": [
  {
   "cell_type": "markdown",
   "metadata": {},
   "source": [
    "# Lesson 4 Assignment - Automobile Price Hypothesis Testing\n",
    "## Author - Matthew Denko"
   ]
  },
  {
   "cell_type": "markdown",
   "metadata": {},
   "source": [
    "### Instructions\n",
    "Test hypotheses for the price of automobiles:\n",
    "\n",
    "1. Compare and test the normality of the distributions of **price** and **log price**. <br/>\n",
    "Use both a graphical method and a formal test. Hint: remember these relationships will always be approximate.\n",
    "\n",
    "2. Test significance of **price (or log price)** stratified by \n",
    "a) **fuel type**, b) **aspiration**, and c) **rear vs. front wheel drive**. <br />Use both graphical methods and the formal test.\n",
    "\n",
    "3. Apply ANOVA and Tukey's HSD test to the auto price data to compare the **price (or log price** if closer to a normal distribution) of autos stratified by **body style**.\n",
    "\n",
    "4. Graphically explore the differences between the price conditioned by the categories of each variable. <br/>\n",
    "Hint: Make sure you have enough data for each category and drop categories with insufficient data.\n",
    "\n",
    "5. Use standard ANOVA and Tukey HSD to test the differences of these groups.\n"
   ]
  },
  {
   "cell_type": "markdown",
   "metadata": {},
   "source": [
    "#### Note: \n",
    "Please clearly outline the results of these tests with markdown text. Be sure your discussion includes narrative for your figures and tables so it is clear to the reader the importance of each bit of evidence."
   ]
  },
  {
   "cell_type": "markdown",
   "metadata": {},
   "source": [
    "# Importing/Cleaning Data"
   ]
  },
  {
   "cell_type": "code",
   "execution_count": null,
   "metadata": {},
   "outputs": [],
   "source": [
    "# Import libraries\n",
    "\n",
    "import pandas as pd\n",
    "import numpy as np\n",
    "import matplotlib.pyplot as plt\n",
    "import scipy.stats as stats"
   ]
  },
  {
   "cell_type": "code",
   "execution_count": null,
   "metadata": {},
   "outputs": [],
   "source": [
    "# Defining Functions\n",
    "\n",
    "def stratified_sample_df(df, col, n_samples):\n",
    "    n = min(n_samples, df[col].value_counts().min())\n",
    "    df_ = df.groupby(col).apply(lambda x: x.sample(n))\n",
    "    df_.index = df_.index.droplevel(0)\n",
    "    return df_"
   ]
  },
  {
   "cell_type": "code",
   "execution_count": null,
   "metadata": {},
   "outputs": [],
   "source": [
    "# Reading Data\n",
    "\n",
    "url = \"https://library.startlearninglabs.uw.edu/DATASCI410/Datasets/Automobile%20price%20data%20_Raw_.csv\"\n",
    "Auto = pd.read_csv(url, header=None)\n",
    "\n",
    "#Assigning Column Names\n",
    "\n",
    "Auto.columns = [\"symboling\",\"normalized-losses\",\"make\",\"fuel-type\",\"aspiration\", \"num-of-doors\", \"body-style\", \"drive-wheels\",\n",
    "               \"engine-location\", \"wheel-base\",\"length\", \"width\", \"height\", \"curb-weight\", \"engine-type\", \"num-of=cylinders\",\n",
    "               \"engine-size\", \"fuel-system\", \"bore\", \"stroke\", \"compression-ratio\",\"horsepower\",\"peak-rpm\",\"city-mpg\",\n",
    "               \"highway-mpg\",\"price\"]\n",
    "print(Auto.columns)\n",
    "print(Auto.describe())\n",
    "print(Auto.head(10))"
   ]
  },
  {
   "cell_type": "code",
   "execution_count": null,
   "metadata": {},
   "outputs": [],
   "source": [
    "#Removing cases with missing data\n",
    "\n",
    "Auto.loc ['price',:] = pd.to_numeric(Auto['price'], errors='coerce').fillna(0)\n",
    "Auto = Auto.replace(to_replace= \"?\", value= float('NaN'))\n",
    "\n",
    "#dropping rows with nulls\n",
    "\n",
    "Auto = Auto.dropna(axis = 0)\n",
    "Auto_null = Auto.isnull().sum()\n",
    "print(\"\"\"Null Counts by Column\n",
    "\"\"\",Auto_null)"
   ]
  },
  {
   "cell_type": "markdown",
   "metadata": {},
   "source": [
    "# Testing Normality"
   ]
  },
  {
   "cell_type": "markdown",
   "metadata": {},
   "source": [
    "## Price vs Log(price)"
   ]
  },
  {
   "cell_type": "code",
   "execution_count": null,
   "metadata": {},
   "outputs": [],
   "source": [
    "# Converting price to float\n",
    "\n",
    "Auto.loc [:,'price'] = pd.to_numeric(Auto['price'], errors='coerce').fillna(0)\n",
    "Auto.loc[:,'price'] = Auto['price'].astype('float')\n",
    "\n",
    "# Creating log price\n",
    "\n",
    "Auto.loc[:,'log_price'] = np.log(Auto[\"price\"])\n",
    "Auto.dtypes\n",
    "\n",
    "#Dropping inf values\n",
    "\n",
    "Auto = Auto.replace(to_replace= float(\"-inf\"), value= 0)"
   ]
  },
  {
   "cell_type": "code",
   "execution_count": null,
   "metadata": {},
   "outputs": [],
   "source": [
    "#Price Histogram\n",
    "\n",
    "price_hist = plt.hist(Auto.loc[:,'price'])\n",
    "plt.show(price_hist)"
   ]
  },
  {
   "cell_type": "code",
   "execution_count": null,
   "metadata": {},
   "outputs": [],
   "source": [
    "#Log Price Histogram\n",
    "\n",
    "log_price_hist = plt.hist(Auto.loc[:,'log_price'])\n",
    "plt.show(log_price_hist)"
   ]
  },
  {
   "cell_type": "markdown",
   "metadata": {},
   "source": [
    "### Comments:\n",
    "    Based off the histogram plots of price and log(price) it is clear that price has much closer to normal distribution than price. While neither is a strong normal distribution, log price is strongly left skewed."
   ]
  },
  {
   "cell_type": "markdown",
   "metadata": {},
   "source": [
    "# Hypothesis Testing"
   ]
  },
  {
   "cell_type": "markdown",
   "metadata": {},
   "source": [
    "## Creating Stratified Samples"
   ]
  },
  {
   "cell_type": "code",
   "execution_count": null,
   "metadata": {},
   "outputs": [],
   "source": [
    "# Creating Stratified Samples\n",
    "\n",
    "# fuel-type\n",
    "fuel_type = pd.DataFrame()\n",
    "fuel_type = stratified_sample_df(Auto, 'fuel-type',100)\n",
    "print(fuel_type.describe())\n",
    "\n",
    "# aspiration\n",
    "aspiration = pd.DataFrame()\n",
    "aspiration = stratified_sample_df(Auto, 'aspiration',100)\n",
    "print(aspiration.describe())\n",
    "\n",
    "# drive-wheels\n",
    "drive_wheels = pd.DataFrame()\n",
    "drive_wheels = stratified_sample_df(Auto, 'drive-wheels',100)\n",
    "print(drive_wheels.describe())\n",
    "\n",
    "# body-style\n",
    "body_style = pd.DataFrame()\n",
    "body_style = stratified_sample_df(Auto, 'body-style',100)\n",
    "print(body_style.describe())\n"
   ]
  },
  {
   "cell_type": "markdown",
   "metadata": {},
   "source": [
    "## Graphing Distributions of Stratified Samples vs Population"
   ]
  },
  {
   "cell_type": "code",
   "execution_count": null,
   "metadata": {},
   "outputs": [],
   "source": [
    "##Price Histogram - Original Sample\n",
    "\n",
    "price_hist = plt.hist(Auto.loc[:,'price'])\n",
    "plt.show(price_hist)"
   ]
  },
  {
   "cell_type": "code",
   "execution_count": null,
   "metadata": {},
   "outputs": [],
   "source": [
    "##Price Histogram - Stratified by fuel-type\n",
    "\n",
    "ft_hist = plt.hist(fuel_type.loc[:,'price'])\n",
    "plt.show(ft_hist)"
   ]
  },
  {
   "cell_type": "code",
   "execution_count": null,
   "metadata": {},
   "outputs": [],
   "source": [
    "##Price Histogram - Stratified by aspiration\n",
    "\n",
    "aspiration_hist = plt.hist(fuel_type.loc[:,'price'])\n",
    "plt.show(aspiration_hist)"
   ]
  },
  {
   "cell_type": "code",
   "execution_count": null,
   "metadata": {},
   "outputs": [],
   "source": [
    "##Price Histogram - Stratified by drive-wheel\n",
    "\n",
    "dw_hist = plt.hist(drive_wheels.loc[:,'price'])\n",
    "plt.show(dw_hist)"
   ]
  },
  {
   "cell_type": "code",
   "execution_count": null,
   "metadata": {},
   "outputs": [],
   "source": [
    "##Price Histogram - Stratified by body-style\n",
    "\n",
    "bs_hist = plt.hist(body_style.loc[:,'price'])\n",
    "plt.show(bs_hist)"
   ]
  },
  {
   "cell_type": "markdown",
   "metadata": {},
   "source": [
    "### Comments:\n",
    "\n",
    "    Based off the histogram plots of the the samples stratified by fuel-type, aspiration, drive wheels, and body style there appears to be 3 main groups of prices. The first group is around 0-2500, the second group is around 7500-11000 and the third group is around 16000-18000. Each stratified sample has a similar spread in this manner that the original sample does not have. "
   ]
  },
  {
   "cell_type": "markdown",
   "metadata": {},
   "source": [
    "## ANOVA TESTING"
   ]
  },
  {
   "cell_type": "code",
   "execution_count": null,
   "metadata": {},
   "outputs": [],
   "source": [
    "# original sample vs fuel-type sample\n",
    "\n",
    "ft_anova = stats.f_oneway(Auto['price'],fuel_type['price'])\n",
    "print('fuel-type ANOVA test', ft_anova)\n",
    "\n",
    "# original sample vs aspiration sample\n",
    "\n",
    "as_anova = stats.f_oneway(Auto['price'],aspiration['price'])\n",
    "print('aspiration ANOVA test', as_anova)\n",
    "\n",
    "# original sample vs drive-wheel sample\n",
    "\n",
    "dw_anova = stats.f_oneway(Auto['price'],drive_wheels['price'])\n",
    "print('drive-wheel ANOVA test', dw_anova)\n",
    "\n",
    "# original sample vs body-style sample\n",
    "\n",
    "bs_anova = stats.f_oneway(Auto['price'],body_style['price'])\n",
    "print('body-style ANOVA test', bs_anova)"
   ]
  },
  {
   "cell_type": "markdown",
   "metadata": {},
   "source": [
    "### Comments:\n",
    "\n",
    "    Based off the ANOVA tests between the original sample and the stratified samples and using a pvalue of 0.05, we cannot reject any of the null hypothesises that the two sample means of price are siginificantly different. "
   ]
  }
 ],
 "metadata": {
  "kernelspec": {
   "display_name": "Python 3",
   "language": "python",
   "name": "python3"
  },
  "language_info": {
   "codemirror_mode": {
    "name": "ipython",
    "version": 3
   },
   "file_extension": ".py",
   "mimetype": "text/x-python",
   "name": "python",
   "nbconvert_exporter": "python",
   "pygments_lexer": "ipython3",
   "version": "3.6.5"
  }
 },
 "nbformat": 4,
 "nbformat_minor": 2
}
