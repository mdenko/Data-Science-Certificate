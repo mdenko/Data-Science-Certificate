{
 "cells": [
  {
   "cell_type": "markdown",
   "metadata": {},
   "source": [
    "# Lesson 3 Assignment - Monty Hall Simulation\n",
    "## Author - Matthew Denko"
   ]
  },
  {
   "cell_type": "markdown",
   "metadata": {},
   "source": [
    "### Instructions\n",
    "Simulate the conditional probabilities of the distributions for winning a car vs. a goat for the Monty Hall Problem that includes the following:\n",
    "1. the cases for switching or not switching\n",
    "2. histograms and summary statistics (at least mean and variance) of the results for winning the car or a goat for both strategies: switching or not switching\n",
    "3. comparison of the cases to determine the best strategy\n",
    "4. recommended strategy\n",
    "\n"
   ]
  },
  {
   "cell_type": "markdown",
   "metadata": {},
   "source": [
    "#### Note: \n",
    "Please clearly outline the results and your recommendation with markdown text. Be sure your discussion includes narrative for your figures and tables so it is clear to the reader the importance of each bit of evidence."
   ]
  },
  {
   "cell_type": "markdown",
   "metadata": {},
   "source": [
    "## Monty Hall Problem\n",
    "    \n",
    "    The Monty Hall probem comes from a television game show, \"Let's Make a Deal\", in which contestants would be given the option to choose 3 doors (\"A\",\"B\",\"C\") and behind one of the doors is a Car and behind the other two doors is a Goat. After the cotestant chooses a door, the host would then reveal that one of the other two options was incorrect. The host would then give the contestant the option to stick with their choice or to switch."
   ]
  },
  {
   "cell_type": "code",
   "execution_count": 120,
   "metadata": {},
   "outputs": [],
   "source": [
    "# Import libraries\n",
    "\n",
    "import random\n",
    "import pandas as pd\n",
    "import numpy as np\n",
    "import matplotlib\n",
    "import matplotlib.pyplot as plt\n",
    "from time import time as TT\n",
    "from random import choice as ch\n",
    "import numpy as np"
   ]
  },
  {
   "cell_type": "markdown",
   "metadata": {},
   "source": [
    "### Comparison of Strategies: \n",
    "    I will now compare the proabilities of winning using the two different strategies. The first strategy is when the contestant switches from their original selection. The second strategy is when the contestant sticks with their original selection."
   ]
  },
  {
   "cell_type": "code",
   "execution_count": 121,
   "metadata": {},
   "outputs": [
    {
     "name": "stdout",
     "output_type": "stream",
     "text": [
      "Probability you win the car with switching given you picked the goat initially is 0.6666666666666666\n",
      "Probability you win the car with switching given you picked the car initially is 0.0\n",
      "Total probability you win the car given you switch is 0.6666666666666666\n"
     ]
    }
   ],
   "source": [
    "# Probability of Winning - Switching\n",
    "\n",
    "#Probability(win car with switch | picked goat initially)\n",
    "P1 = 1 * (2/3)\n",
    "print(\"Probability you win the car with switching given you picked the goat initially is\", P1)\n",
    "\n",
    "#Probability(win car with switch | picked car initially)\n",
    "P2 = 0 * (1/3)\n",
    "print(\"Probability you win the car with switching given you picked the car initially is\", P2)\n",
    " \n",
    "#Total Probability of Switching\n",
    "Total_Probability = P1 + P2\n",
    "print(\"Total probability you win the car given you switch is\", Total_Probability)"
   ]
  },
  {
   "cell_type": "markdown",
   "metadata": {},
   "source": [
    "#### Comments:\n",
    "\n",
    "    The total probability that you win the car given you switch from your inital choice is the combination of the probability of two independent events. The first is the probability that you win the car with switching given you picked the goat initially is 2/3. This is because, when your choose your first selection this choice is completely random and each option has probability of being a car equal to 1/3. When one of the options is removed if you decide to switch choices you now have a probability of 2/3 of that option being the car given that your second choice you know one of the 3 options is the goat. The second is the probability that you win the car with switching given you picked the car intially is 0. This is because you cannot win if you picked the car initially and switch away from it. The total combination of these probabilities is 2/3 which means you have a probability of winning if you switch of 2/3.\n",
    "    "
   ]
  },
  {
   "cell_type": "code",
   "execution_count": 122,
   "metadata": {},
   "outputs": [
    {
     "name": "stdout",
     "output_type": "stream",
     "text": [
      "Probability you win the car without switching given you picked the goat initially is 0.0\n",
      "Probability you win the car without switching given you picked the car initially is 0.3333333333333333\n",
      "Total probability you win the car given you do not switch is 0.3333333333333333\n"
     ]
    }
   ],
   "source": [
    "# Simulate Not Switching\n",
    "\n",
    "#Probability (win car no switch | picked goat initially)\n",
    "P1 = 0 * (2/3)\n",
    "print(\"Probability you win the car without switching given you picked the goat initially is\", P2)\n",
    "\n",
    "#Probability (win car no switch | picked car initially)\n",
    "P2 = 1 * (1/3)\n",
    "print(\"Probability you win the car without switching given you picked the car initially is\", P2)\n",
    "\n",
    "#Total Probability of Not Switching\n",
    "Total_Probability = P1 + P2\n",
    "print(\"Total probability you win the car given you do not switch is\", Total_Probability)"
   ]
  },
  {
   "cell_type": "markdown",
   "metadata": {},
   "source": [
    "#### Comments:\n",
    "    \n",
    "    The total probability you win the car given you do not switch from your inital choice is the combination of the probability of two independent events. The first is the probability that you win the car without switching given you pick the goat initially which is 0. The second is the probability you win the car with no switch given you picked the car initially which is 1/3. The toal combination of these proabilities is 1/3 which means you have a 1/3 option of choosing the car initially and that choice being correct. This is lower than the probability of winning while switching because in that case you have a 2/3 probability of your intial choice being a goat. "
   ]
  },
  {
   "cell_type": "markdown",
   "metadata": {},
   "source": [
    "### Simulating Strategies: "
   ]
  },
  {
   "cell_type": "markdown",
   "metadata": {},
   "source": [
    "#### Comments:\n",
    "    \n",
    "    Below I will be running a simulation for 10,000 events of the Monty Hall problem where the constestant switches from their original choice. The results will be a aggregated probability of winning after n amount of occurences. For example, n = 33 will represent the proportion of choosing the car correctly in the first 33 choices given the contestant switches each time."
   ]
  },
  {
   "cell_type": "code",
   "execution_count": 123,
   "metadata": {},
   "outputs": [
    {
     "name": "stderr",
     "output_type": "stream",
     "text": [
      "/Users/matt.denko/anaconda3/lib/python3.6/site-packages/numpy/core/fromnumeric.py:2920: RuntimeWarning: Mean of empty slice.\n",
      "  out=out, **kwargs)\n",
      "/Users/matt.denko/anaconda3/lib/python3.6/site-packages/numpy/core/_methods.py:85: RuntimeWarning: invalid value encountered in double_scalars\n",
      "  ret = ret.dtype.type(ret / rcount)\n"
     ]
    },
    {
     "name": "stdout",
     "output_type": "stream",
     "text": [
      "Total time for Loop   169.14246916770935\n"
     ]
    }
   ],
   "source": [
    "# Running Simulation\n",
    "\n",
    "ac = []\n",
    "tc = []\n",
    "N = []\n",
    "st = TT()\n",
    "for M in range(1,10000): #Outer loop from 1 to 10000\n",
    "    st1 = TT()\n",
    "    score = []\n",
    "    runs = 0\n",
    "    cards = [1,2,3]\n",
    "    for K in range(1,M): # sub loop that simulates 1 to M(outerloop) games\n",
    "        aset = []\n",
    "        host = cards.copy()\n",
    "        hbk = ch(host) #Randomly choose as answer which host knows\n",
    "        aset.append(hbk)\n",
    "        #print(\"The host knows the answer\",hbk)\n",
    "        player = cards.copy()\n",
    "        px = ch(player) # Contestanrs random guess\n",
    "        aset.append(px)\n",
    "        #print (\"Players first choice\",px)\n",
    "        chance = 0\n",
    "        for i in host: # The computation....host will eliminate P(X|DOOR) = 0\n",
    "            if i not in aset:\n",
    "                chance = i\n",
    "        #print (\"The elimination\",chance)\n",
    "        #print (player)\n",
    "        player.pop(player.index(chance))\n",
    "        player.pop(player.index(px))\n",
    "        #print (\"final answe\",player)\n",
    "        if player[0] == hbk:\n",
    "            score.append(1)\n",
    "        else:\n",
    "            score.append(0)\n",
    "        runs = K\n",
    "        #print (\"\\n\\n\")\n",
    "    ac.append(np.mean(score))\n",
    "    N.append(M)\n",
    "    en1 = TT()\n",
    "    tc.append(en1-st1)\n",
    "en = TT()    \n",
    "print (\"Total time for Loop  \", en - st )"
   ]
  },
  {
   "cell_type": "markdown",
   "metadata": {},
   "source": [
    "### Graphical Analysis:\n",
    "    Histograms and summary statistics (at least mean and variance) of the results for winning the car or a goat for both strategies: switching or not switching"
   ]
  },
  {
   "cell_type": "code",
   "execution_count": 124,
   "metadata": {},
   "outputs": [
    {
     "data": {
      "text/html": [
       "<div>\n",
       "<style scoped>\n",
       "    .dataframe tbody tr th:only-of-type {\n",
       "        vertical-align: middle;\n",
       "    }\n",
       "\n",
       "    .dataframe tbody tr th {\n",
       "        vertical-align: top;\n",
       "    }\n",
       "\n",
       "    .dataframe thead th {\n",
       "        text-align: right;\n",
       "    }\n",
       "</style>\n",
       "<table border=\"1\" class=\"dataframe\">\n",
       "  <thead>\n",
       "    <tr style=\"text-align: right;\">\n",
       "      <th></th>\n",
       "      <th>probabilities</th>\n",
       "    </tr>\n",
       "  </thead>\n",
       "  <tbody>\n",
       "    <tr>\n",
       "      <th>count</th>\n",
       "      <td>9998.000000</td>\n",
       "    </tr>\n",
       "    <tr>\n",
       "      <th>mean</th>\n",
       "      <td>0.666910</td>\n",
       "    </tr>\n",
       "    <tr>\n",
       "      <th>std</th>\n",
       "      <td>0.013584</td>\n",
       "    </tr>\n",
       "    <tr>\n",
       "      <th>min</th>\n",
       "      <td>0.444444</td>\n",
       "    </tr>\n",
       "    <tr>\n",
       "      <th>25%</th>\n",
       "      <td>0.661813</td>\n",
       "    </tr>\n",
       "    <tr>\n",
       "      <th>50%</th>\n",
       "      <td>0.666667</td>\n",
       "    </tr>\n",
       "    <tr>\n",
       "      <th>75%</th>\n",
       "      <td>0.671733</td>\n",
       "    </tr>\n",
       "    <tr>\n",
       "      <th>max</th>\n",
       "      <td>1.000000</td>\n",
       "    </tr>\n",
       "  </tbody>\n",
       "</table>\n",
       "</div>"
      ],
      "text/plain": [
       "       probabilities\n",
       "count    9998.000000\n",
       "mean        0.666910\n",
       "std         0.013584\n",
       "min         0.444444\n",
       "25%         0.661813\n",
       "50%         0.666667\n",
       "75%         0.671733\n",
       "max         1.000000"
      ]
     },
     "execution_count": 124,
     "metadata": {},
     "output_type": "execute_result"
    }
   ],
   "source": [
    "#Creating Dataframe and calculating summary statistics - For Switching\n",
    "\n",
    "switch_df = pd.DataFrame()\n",
    "switch_df.loc[:,'probabilities'] = ac\n",
    "switch_df = ac_df.drop(0)\n",
    "switch_df.head(10)\n",
    "switch_df.describe()"
   ]
  },
  {
   "cell_type": "markdown",
   "metadata": {},
   "source": [
    "#### Comments:\n",
    "    \n",
    "    After removing null values there are 9998 events. After 9998 events the mean cumulative probability of winning if you do switch is ~0.67."
   ]
  },
  {
   "cell_type": "code",
   "execution_count": 125,
   "metadata": {},
   "outputs": [
    {
     "data": {
      "text/html": [
       "<div>\n",
       "<style scoped>\n",
       "    .dataframe tbody tr th:only-of-type {\n",
       "        vertical-align: middle;\n",
       "    }\n",
       "\n",
       "    .dataframe tbody tr th {\n",
       "        vertical-align: top;\n",
       "    }\n",
       "\n",
       "    .dataframe thead th {\n",
       "        text-align: right;\n",
       "    }\n",
       "</style>\n",
       "<table border=\"1\" class=\"dataframe\">\n",
       "  <thead>\n",
       "    <tr style=\"text-align: right;\">\n",
       "      <th></th>\n",
       "      <th>probabilities</th>\n",
       "    </tr>\n",
       "  </thead>\n",
       "  <tbody>\n",
       "    <tr>\n",
       "      <th>count</th>\n",
       "      <td>9998.000000</td>\n",
       "    </tr>\n",
       "    <tr>\n",
       "      <th>mean</th>\n",
       "      <td>0.333090</td>\n",
       "    </tr>\n",
       "    <tr>\n",
       "      <th>std</th>\n",
       "      <td>0.013584</td>\n",
       "    </tr>\n",
       "    <tr>\n",
       "      <th>min</th>\n",
       "      <td>0.000000</td>\n",
       "    </tr>\n",
       "    <tr>\n",
       "      <th>25%</th>\n",
       "      <td>0.328267</td>\n",
       "    </tr>\n",
       "    <tr>\n",
       "      <th>50%</th>\n",
       "      <td>0.333333</td>\n",
       "    </tr>\n",
       "    <tr>\n",
       "      <th>75%</th>\n",
       "      <td>0.338187</td>\n",
       "    </tr>\n",
       "    <tr>\n",
       "      <th>max</th>\n",
       "      <td>0.555556</td>\n",
       "    </tr>\n",
       "  </tbody>\n",
       "</table>\n",
       "</div>"
      ],
      "text/plain": [
       "       probabilities\n",
       "count    9998.000000\n",
       "mean        0.333090\n",
       "std         0.013584\n",
       "min         0.000000\n",
       "25%         0.328267\n",
       "50%         0.333333\n",
       "75%         0.338187\n",
       "max         0.555556"
      ]
     },
     "execution_count": 125,
     "metadata": {},
     "output_type": "execute_result"
    }
   ],
   "source": [
    "#Creating Dataframe and calculating summary statistics - For Staying\n",
    "\n",
    "stay_df = 1-switch_df\n",
    "stay_df.head(10)\n",
    "stay_df.describe()"
   ]
  },
  {
   "cell_type": "markdown",
   "metadata": {},
   "source": [
    "#### Comments:\n",
    "    \n",
    "    After removing null values there are 9998 events. After 9998 events the mean cumulative probability of winning if you do not switch is ~0.33."
   ]
  },
  {
   "cell_type": "code",
   "execution_count": 126,
   "metadata": {},
   "outputs": [
    {
     "data": {
      "text/plain": [
       "array([[<matplotlib.axes._subplots.AxesSubplot object at 0x12b411f28>]],\n",
       "      dtype=object)"
      ]
     },
     "execution_count": 126,
     "metadata": {},
     "output_type": "execute_result"
    },
    {
     "data": {
      "image/png": "[encoded data removed]",
      "text/plain": [
       "<Figure size 432x288 with 1 Axes>"
      ]
     },
     "metadata": {},
     "output_type": "display_data"
    }
   ],
   "source": [
    "#Histogram - Switching\n",
    "\n",
    "switch_df.hist(bins = 10000)"
   ]
  },
  {
   "cell_type": "markdown",
   "metadata": {},
   "source": [
    "#### Comments:\n",
    "    \n",
    "    The distribution appears to be mostly normal with a few potential high outliers (likely some of the early events)."
   ]
  },
  {
   "cell_type": "code",
   "execution_count": 127,
   "metadata": {},
   "outputs": [
    {
     "data": {
      "text/plain": [
       "array([[<matplotlib.axes._subplots.AxesSubplot object at 0x1304d0c18>]],\n",
       "      dtype=object)"
      ]
     },
     "execution_count": 127,
     "metadata": {},
     "output_type": "execute_result"
    },
    {
     "data": {
      "image/png": "[encoded data removed]",
      "text/plain": [
       "<Figure size 432x288 with 1 Axes>"
      ]
     },
     "metadata": {},
     "output_type": "display_data"
    }
   ],
   "source": [
    "#Histogram - Staying\n",
    "\n",
    "stay_df.hist(bins = 10000)"
   ]
  },
  {
   "cell_type": "markdown",
   "metadata": {},
   "source": [
    "#### Comments:\n",
    "    \n",
    "    The distribution appears to be mostly normal with a few potential high outliers."
   ]
  },
  {
   "cell_type": "markdown",
   "metadata": {},
   "source": [
    "## Recomended Strategy\n",
    "\n",
    "    After comparing the probabilities and simulating them over 10,000 events and looking at their distributions it is clear that the best strategy is to always switch. I recommend to any contestant to always switch from their original choice when given the option."
   ]
  }
 ],
 "metadata": {
  "kernelspec": {
   "display_name": "Python 3",
   "language": "python",
   "name": "python3"
  },
  "language_info": {
   "codemirror_mode": {
    "name": "ipython",
    "version": 3
   },
   "file_extension": ".py",
   "mimetype": "text/x-python",
   "name": "python",
   "nbconvert_exporter": "python",
   "pygments_lexer": "ipython3",
   "version": "3.6.5"
  }
 },
 "nbformat": 4,
 "nbformat_minor": 2
}
