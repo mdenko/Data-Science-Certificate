{
 "cells": [
  {
   "cell_type": "markdown",
   "metadata": {},
   "source": [
    "# Lesson 04 Assignment"
   ]
  },
  {
   "cell_type": "markdown",
   "metadata": {},
   "source": [
    "## Background\n",
    "\n",
    "    You are working for a data science consulting company. Your company is approached by a client requesting that you analyze crime data across the United States. At first glance, you notice that the data has 128 attributes and cannot be examined manually. The data combines socio-economic data from the 1990 US Census, law enforcement data from the 1990 US LEMAS survey, and crime data from the 1995 FBI UCR. You are tasked to identify which are the most important features or attributes that contribute to crime. \n",
    "\n",
    "    Generally, such data might be used for predictive policing, where police departments can predict potential criminal activity so they can ensure they are properly staffed and the areas of concern are patrolled accordingly."
   ]
  },
  {
   "cell_type": "markdown",
   "metadata": {},
   "source": [
    "## Instructions\n",
    "\n",
    "    It is recommended you complete the lab exercises for this lesson before beginning the assignment.\n",
    "\n",
    "    Using the Communities and Crime dataset (Links to an external site.)Links to an external site., create a new notebook and perform each of the following tasks and answer the related questions:\n",
    "\n",
    "    (1) Read data.\n",
    "    (2) Apply three techniques for filter selection: Filter methods, Wrapper methods, Embedded methods.\n",
    "    (3) Describe your findings."
   ]
  },
  {
   "cell_type": "code",
   "execution_count": null,
   "metadata": {},
   "outputs": [],
   "source": [
    "# Import packages\n",
    "\n",
    "import matplotlib.pyplot as plt\n",
    "import numpy as np\n",
    "import pandas as pd\n",
    "from collections import OrderedDict\n",
    "import datetime as dt\n",
    "import matplotlib.pyplot as plt\n",
    "from sklearn.linear_model import LinearRegression\n",
    "import statsmodels.api as sms\n",
    "from sklearn import linear_model\n",
    "from sklearn.datasets import make_friedman1\n",
    "from sklearn.feature_selection import RFE #Recursive Feature Elimination\n",
    "\n",
    "#Plot styling\n",
    "\n",
    "import seaborn as sns; sns.set()  # for plot styling\n",
    "%matplotlib inline"
   ]
  },
  {
   "cell_type": "markdown",
   "metadata": {},
   "source": [
    "### (1) Read Data"
   ]
  },
  {
   "cell_type": "code",
   "execution_count": null,
   "metadata": {},
   "outputs": [],
   "source": [
    "# Reading url\n",
    "\n",
    "data = pd.read_csv(\"/Users/matt.denko/Downloads/data.csv\") \n",
    "data.columns = ['state',\n",
    "'county',\n",
    "'community  ',\n",
    "'communityname',\n",
    "'fold',\n",
    "'population',\n",
    "'householdsize',\n",
    "'racepctblack',\n",
    "'racePctWhite',\n",
    "'racePctAsian  ',\n",
    "'racePctHisp',\n",
    "'agePct12t21  ',\n",
    "'agePct12t29',\n",
    "'agePct16t24  ',\n",
    "'agePct65up',\n",
    "'numbUrban',\n",
    "'pctUrban',\n",
    "'medIncome',\n",
    "'pctWWage',\n",
    "'pctWFarmSelf',\n",
    "'pctWInvInc',\n",
    "'pctWSocSec',\n",
    "'pctWPubAsst',\n",
    "'pctWRetire',\n",
    "'medFamInc',\n",
    "'perCapInc',\n",
    "'whitePerCap',\n",
    "'blackPerCap',\n",
    "'indianPerCap',\n",
    "'AsianPerCap',\n",
    "'OtherPerCap',\n",
    "'HispPerCap',\n",
    "'NumUnderPov',\n",
    "'PctPopUnderPov',\n",
    "'PctLess9thGrade',\n",
    "'PctNotHSGrad',\n",
    "'PctBSorMore',\n",
    "'PctUnemployed',\n",
    "'PctEmploy',\n",
    "'PctEmplManu',\n",
    "'PctEmplProfServ',\n",
    "'PctOccupManu',\n",
    "'PctOccupMgmtProf',\n",
    "'MalePctDivorce',\n",
    "'MalePctNevMarr',\n",
    "'FemalePctDiv',\n",
    "'TotalPctDiv',\n",
    "'PersPerFam',\n",
    "'PctFam2Par',\n",
    "'PctKids2Par',\n",
    "'PctYoungKids2Par',\n",
    "'PctTeen2Par',\n",
    "'PctWorkMomYoungKids',\n",
    "'PctWorkMom',\n",
    "'NumIlleg',\n",
    "'PctIlleg',\n",
    "'NumImmig',\n",
    "'PctImmigRecent',\n",
    "'PctImmigRec5',\n",
    "'PctImmigRec8',\n",
    "'PctImmigRec10',\n",
    "'PctRecentImmig',\n",
    "'PctRecImmig5',\n",
    "'PctRecImmig8',\n",
    "'PctRecImmig10',\n",
    "'PctSpeakEnglOnly',\n",
    "'PctNotSpeakEnglWell',\n",
    "'PctLargHouseFam',\n",
    "'PctLargHouseOccup',\n",
    "'PersPerOccupHous',\n",
    "'PersPerOwnOccHous',\n",
    "'PersPerRentOccHous',\n",
    "'PctPersOwnOccup',\n",
    "'PctPersDenseHous',\n",
    "'PctHousLess3BR',\n",
    "'MedNumBR',\n",
    "'HousVacant',\n",
    "'PctHousOccup',\n",
    "'PctHousOwnOcc',\n",
    "'PctVacantBoarded',\n",
    "'PctVacMore6Mos',\n",
    "'MedYrHousBuilt',\n",
    "'PctHousNoPhone',\n",
    "'PctWOFullPlumb',\n",
    "'OwnOccLowQuart',\n",
    "'OwnOccMedVal',\n",
    "'OwnOccHiQuart',\n",
    "'RentLowQ',\n",
    "'RentMedian',\n",
    "'RentHighQ',\n",
    "'MedRent',\n",
    "'MedRentPctHousInc',\n",
    "'MedOwnCostPctInc',\n",
    "'MedOwnCostPctIncNoMtg',\n",
    "'NumInShelters',\n",
    "'NumStreet',\n",
    "'PctForeignBorn',\n",
    "'PctBornSameState',\n",
    "'PctSameHouse85',\n",
    "'PctSameCity85',\n",
    "'PctSameState85',\n",
    "'LemasSwornFT',\n",
    "'LemasSwFTPerPop',\n",
    "'LemasSwFTFieldOps',\n",
    "'LemasSwFTFieldPerPop',\n",
    "'LemasTotalReq',\n",
    "'LemasTotReqPerPop',\n",
    "'PolicReqPerOffic',\n",
    "'PolicPerPop',\n",
    "'RacialMatchCommPol',\n",
    "'PctPolicWhite',\n",
    "'PctPolicBlack',\n",
    "'PctPolicHisp',\n",
    "'PctPolicAsian',\n",
    "'PctPolicMinor',\n",
    "'OfficAssgnDrugUnits',\n",
    "'NumKindsDrugsSeiz',\n",
    "'PolicAveOTWorked',\n",
    "'LandArea',\n",
    "'PopDens',\n",
    "'PctUsePubTrans',\n",
    "'PolicCars',\n",
    "'PolicOperBudg',\n",
    "'LemasPctPolicOnPatr',\n",
    "'LemasGangUnitDeploy',\n",
    "'LemasPctOfficDrugUn',\n",
    "'PolicBudgPerPop',\n",
    "'ViolentCrimesPerPop']\n",
    "print(data.columns)\n",
    "data.describe()\n",
    "data.head()"
   ]
  },
  {
   "cell_type": "code",
   "execution_count": null,
   "metadata": {},
   "outputs": [],
   "source": [
    "#Treating Nulls - replacing ? with 0\n",
    "\n",
    "data = data.replace(to_replace= \"?\", value=float(0))"
   ]
  },
  {
   "cell_type": "markdown",
   "metadata": {},
   "source": [
    "## (2) Apply three techniques for filter selection: Filter methods, Wrapper methods, Embedded methods."
   ]
  },
  {
   "cell_type": "markdown",
   "metadata": {},
   "source": [
    "### Filter Methods"
   ]
  },
  {
   "cell_type": "markdown",
   "metadata": {},
   "source": [
    "#### Comments:\n",
    "\n",
    "    For my filter method I will be choosing the top 5 variables by correlation with y and running a multiple linear regression model."
   ]
  },
  {
   "cell_type": "code",
   "execution_count": null,
   "metadata": {},
   "outputs": [],
   "source": [
    "# Define the target and features:\n",
    "\n",
    "target_label = 'ViolentCrimesPerPop'\n",
    "non_features = ['state','communityname','fold']\n",
    "feature_labels = [x for x in data.columns if x not in [target_label] + non_features]\n",
    "\n",
    "# One-hot encode inputs\n",
    "\n",
    "data_expanded = pd.get_dummies(data, drop_first=True)\n",
    "print('DataFrame one-hot-expanded shape: {}'.format(data_expanded.shape))\n",
    "\n",
    "# Get target and original x-matrix\n",
    "\n",
    "y = data[target_label]\n",
    "x = data.as_matrix(columns=feature_labels)"
   ]
  },
  {
   "cell_type": "code",
   "execution_count": null,
   "metadata": {},
   "outputs": [],
   "source": [
    "x = x.astype(float)\n",
    "#x.head()"
   ]
  },
  {
   "cell_type": "code",
   "execution_count": null,
   "metadata": {},
   "outputs": [],
   "source": [
    "# Model initialization\n",
    "\n",
    "regression_model = LinearRegression()\n",
    "\n",
    "# Fit the data(train the model)\n",
    "\n",
    "regression_model.fit(x, y)\n",
    "\n",
    "# Predict\n",
    "\n",
    "y_predicted = regression_model.predict(x)\n",
    "\n",
    "#Summary Statistics\n",
    "\n",
    "X = sms.add_constant(x)\n",
    "\n",
    "# Note the diference in argument order\n",
    "\n",
    "model = sms.OLS(y, X).fit()\n",
    "predictions = model.predict(X) # make the predictions by the model\n",
    "\n",
    "# Print out the statistics\n",
    "\n",
    "model.summary()"
   ]
  },
  {
   "attachments": {},
   "cell_type": "markdown",
   "metadata": {},
   "source": [
    "### Comments:\n",
    "\n",
    "    The top 5 features that had the lowest pvalue were NumStreet, PctRecImmig10, PctFam2Par, PctForeignBorn, OwnOccMedVal. These are the features that were selected via a Wrapper Method.\n",
    "    "
   ]
  },
  {
   "cell_type": "markdown",
   "metadata": {},
   "source": [
    "### Filter Methods"
   ]
  },
  {
   "cell_type": "markdown",
   "metadata": {},
   "source": [
    "### Comments:\n",
    "\n",
    "    For my wrapper method, I will be using recursive feature elimination to select 5 features."
   ]
  },
  {
   "cell_type": "code",
   "execution_count": null,
   "metadata": {},
   "outputs": [],
   "source": [
    "# Recursive Feature Elimination\n",
    "\n",
    "estimator = LinearRegression()\n",
    "selector = RFE(estimator, 5, step=1)#select 5 features. Step=1 means each step only remove 1 variable from the model\n",
    "selector = selector.fit(X, y)\n",
    "print(selector.support_) # The mask of selected features.\n",
    "print(selector.ranking_) # selected features are ranked 1. The 6th is the one that is removed first,\n",
    "                         # 2nd is the one that is removed last"
   ]
  },
  {
   "cell_type": "markdown",
   "metadata": {},
   "source": [
    "### Comments:\n",
    "\n",
    "    The 5 features selected via recursive features selection were communityname, PctOccupManu, MalePctNevMarr, PctSameState85, LemasTotalReq."
   ]
  },
  {
   "cell_type": "markdown",
   "metadata": {},
   "source": [
    "### Embeded Methods"
   ]
  },
  {
   "cell_type": "markdown",
   "metadata": {},
   "source": [
    "### Comments:\n",
    "\n",
    "    For my embeded method I will be using ridge regression."
   ]
  },
  {
   "cell_type": "code",
   "execution_count": null,
   "metadata": {},
   "outputs": [],
   "source": [
    "# Ridge Regression\n",
    "\n",
    "alpha = 5 \n",
    "clf = linear_model.Ridge(alpha=alpha)\n",
    "clf.fit(X, y)\n",
    "print(clf.coef_)\n",
    "print(clf.intercept_)\n",
    "\n",
    "# Increasing alpha can compress the L2 norm of the coefficients to 0 (but not selecting variables)\n",
    "\n",
    "print(\"Sum of square of coefficients = %.2f\"%np.sum(clf.coef_**2)) "
   ]
  },
  {
   "cell_type": "markdown",
   "metadata": {},
   "source": [
    "### Commments:\n",
    "\n",
    "    Using an alpha of 5 ridge regression produced a model with a sum of square values of .26."
   ]
  },
  {
   "cell_type": "markdown",
   "metadata": {},
   "source": [
    "## (3) Describe your findings."
   ]
  },
  {
   "cell_type": "markdown",
   "metadata": {},
   "source": [
    "### Comments:\n",
    "\n",
    "    For my filter method I ran a multiple linear regression model and chose the values with 5 lowest pvalues, for my wrapper methods I used recursive feature selection to select 5 features, and for my embedded method I used a ridge regression algorithm. The filter and wrapper methods produced entirely different lists of 5 features which is a good example of how different the outcome of a model can be when using different methods. The embedded method itself is different in that it used an algorithm to both run a model and remove features in the same step."
   ]
  }
 ],
 "metadata": {
  "anaconda-cloud": {},
  "kernelspec": {
   "display_name": "Python 3",
   "language": "python",
   "name": "python3"
  },
  "language_info": {
   "codemirror_mode": {
    "name": "ipython",
    "version": 3
   },
   "file_extension": ".py",
   "mimetype": "text/x-python",
   "name": "python",
   "nbconvert_exporter": "python",
   "pygments_lexer": "ipython3",
   "version": "3.6.5"
  }
 },
 "nbformat": 4,
 "nbformat_minor": 2
}
